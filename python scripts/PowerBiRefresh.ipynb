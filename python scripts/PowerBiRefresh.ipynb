{
 "cells": [
  {
   "cell_type": "code",
   "execution_count": 8,
   "metadata": {},
   "outputs": [
    {
     "name": "stdout",
     "output_type": "stream",
     "text": [
      "[]\n"
     ]
    }
   ],
   "source": [
    "import adal\n",
    "import requests\n",
    "import json\n",
    "import pandas\n",
    "\n",
    "authority_url = 'https://login.windows.net/common'\n",
    "resource_url = 'https://analysis.windows.net/powerbi/api'\n",
    "client_id = 'cebd27f5-a9ef-47ed-a6f6-84a21c14eef6'\n",
    "username = 'joao@jmmjholdings.onmicrosoft.com'\n",
    "password = 'Aligator123@'\n",
    "\n",
    "context = adal.AuthenticationContext(authority=authority_url,\n",
    "                                     validate_authority=True,\n",
    "                                     api_version=None)\n",
    "token = context.acquire_token_with_username_password(resource=resource_url,\n",
    "                                                     client_id=client_id,\n",
    "                                                     username=username,\n",
    "                                                     password=password)\n",
    "access_token = token.get('accessToken')\n",
    "groups_request_url = 'https://api.powerbi.com/v1.0/myorg/groups'\n",
    "header = {'Authorization': f'Bearer {access_token}'}\n",
    "groups_request = json.loads(requests.get(url=groups_request_url, headers=header).content)\n",
    "groups = [d['id'] for d in groups_request['value']]\n",
    "print(groups)\n",
    "for group in groups:\n",
    "    datasets_request_url = 'https://api.powerbi.com/v1.0/myorg/groups/' + group + '/datasets'\n",
    "    datasets_request = json.loads(requests.get(url=datasets_request_url, headers=header).content)\n",
    "    datasets = [d['id'] for d in datasets_request['value']]\n",
    "    for dataset in datasets:\n",
    "        refresh_url = 'https://api.powerbi.com/v1.0/myorg/groups/' + group + '/datasets/' + dataset + '/refreshes'\n",
    "        r = requests.post(url=refresh_url, headers=header)\n",
    "final = pandas.DataFrame()"
   ]
  },
  {
   "cell_type": "code",
   "execution_count": null,
   "metadata": {},
   "outputs": [],
   "source": []
  },
  {
   "cell_type": "code",
   "execution_count": null,
   "metadata": {},
   "outputs": [],
   "source": []
  }
 ],
 "metadata": {
  "interpreter": {
   "hash": "f9cc8bcc34bbe529037a96dc912cbaef6033f3533d263a14db007ad0e61eace1"
  },
  "kernelspec": {
   "display_name": "Python 3.9.1 ('.venv': venv)",
   "language": "python",
   "name": "python3"
  },
  "language_info": {
   "codemirror_mode": {
    "name": "ipython",
    "version": 3
   },
   "file_extension": ".py",
   "mimetype": "text/x-python",
   "name": "python",
   "nbconvert_exporter": "python",
   "pygments_lexer": "ipython3",
   "version": "3.9.1"
  },
  "orig_nbformat": 4
 },
 "nbformat": 4,
 "nbformat_minor": 2
}
