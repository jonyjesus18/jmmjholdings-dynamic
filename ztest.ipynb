{
 "cells": [
  {
   "cell_type": "code",
   "execution_count": 42,
   "metadata": {},
   "outputs": [
    {
     "name": "stdout",
     "output_type": "stream",
     "text": [
      "{\n",
      "  \"choices\": [\n",
      "    {\n",
      "      \"finish_reason\": \"stop\",\n",
      "      \"index\": 0,\n",
      "      \"logprobs\": null,\n",
      "      \"text\": \"\\n1. What are the main areas of mechanical engineering that you are familiar with?\\n2. What are the most important skills for a senior mechanical engineer?\\n3. What challenges have you faced during your career as a mechanical engineer?\\n4. What have been the biggest achievements of your career as a mechanical engineer?\\n5. What do you see as the future of mechanical engineering?\\n6. What do you think are the benefits of a career in mechanical engineering?\\n7. What do you think are the challenges of a career in mechanical engineering?\\n8. What do you think are the biggest opportunities for a career in mechanical engineering?\"\n",
      "    }\n",
      "  ],\n",
      "  \"created\": 1644279278,\n",
      "  \"id\": \"cmpl-4Z8RSrlOnSYPjjfkTiZlL2Htwzbij\",\n",
      "  \"model\": \"text-davinci:001\",\n",
      "  \"object\": \"text_completion\"\n",
      "}\n"
     ]
    }
   ],
   "source": [
    "import os\n",
    "import openai\n",
    "import json\n",
    "import requests\n",
    "key1 = 'sk-YQtgOUqZXkJ8oFLzORo2T3'\n",
    "key2 = 'BlbkFJ7RbBtMo9KMz6RKXt2VbA'\n",
    "openai.api_key = f\"{key1}{key2}\"\n",
    "\n",
    "\n",
    "response = openai.Completion.create(\n",
    "  engine=\"text-davinci-001\",\n",
    "  prompt=\"Create a list of 8 questions for my interview as a senior mechanical engineer\\n\",\n",
    "  temperature=0.5,\n",
    "  max_tokens=150,\n",
    "  top_p=1,\n",
    "  frequency_penalty=0,\n",
    "  presence_penalty=0\n",
    ")\n",
    "\n",
    "print(response)\n"
   ]
  },
  {
   "cell_type": "code",
   "execution_count": 44,
   "metadata": {},
   "outputs": [
    {
     "name": "stdout",
     "output_type": "stream",
     "text": [
      "['1. What are the main areas of mechanical engineering that you are familiar with?', '2. What are the most important skills for a senior mechanical engineer?', '3. What challenges have you faced during your career as a mechanical engineer?', '4. What have been the biggest achievements of your career as a mechanical engineer?', '5. What do you see as the future of mechanical engineering?', '6. What do you think are the benefits of a career in mechanical engineering?', '7. What do you think are the challenges of a career in mechanical engineering?', '8. What do you think are the biggest opportunities for a career in mechanical engineering?']\n"
     ]
    }
   ],
   "source": [
    "text = response.choices[0].text\n",
    "list = text.split('\\n')[1:]\n",
    "print(list)"
   ]
  },
  {
   "cell_type": "code",
   "execution_count": 32,
   "metadata": {},
   "outputs": [
    {
     "data": {
      "text/plain": [
       "<bound method OpenAIObject.to_dict of <OpenAIObject text_completion id=cmpl-4Z85hSv0mWjtRZEIUR1THtEHFGYfD at 0x1fd6c722270> JSON: {\n",
       "  \"choices\": [\n",
       "    {\n",
       "      \"finish_reason\": \"stop\",\n",
       "      \"index\": 0,\n",
       "      \"logprobs\": null,\n",
       "      \"text\": \"\\n1. Why did you choose to pursue a career in mechanical engineering?\\n\\n2. What are your greatest strengths and weaknesses in this field?\\n\\n3. What are the biggest challenges you\\u2019ve faced during your career thus far?\\n\\n4. What have been the biggest accomplishments of your career thus far?\\n\\n5. What do you see as the future of mechanical engineering?\\n\\n6. What trends do you see emerging in this field in the next few years?\\n\\n7. What do you believe is the most important skill for a successful mechanical engineer?\\n\\n8. What advice would you give to someone who is considering pursuing a career in mechanical engineering?\"\n",
       "    }\n",
       "  ],\n",
       "  \"created\": 1644277929,\n",
       "  \"id\": \"cmpl-4Z85hSv0mWjtRZEIUR1THtEHFGYfD\",\n",
       "  \"model\": \"text-davinci:001\",\n",
       "  \"object\": \"text_completion\"\n",
       "}>"
      ]
     },
     "execution_count": 32,
     "metadata": {},
     "output_type": "execute_result"
    }
   ],
   "source": []
  },
  {
   "cell_type": "code",
   "execution_count": null,
   "metadata": {},
   "outputs": [],
   "source": []
  }
 ],
 "metadata": {
  "interpreter": {
   "hash": "f9cc8bcc34bbe529037a96dc912cbaef6033f3533d263a14db007ad0e61eace1"
  },
  "kernelspec": {
   "display_name": "Python 3.9.1 ('.venv': venv)",
   "language": "python",
   "name": "python3"
  },
  "language_info": {
   "codemirror_mode": {
    "name": "ipython",
    "version": 3
   },
   "file_extension": ".py",
   "mimetype": "text/x-python",
   "name": "python",
   "nbconvert_exporter": "python",
   "pygments_lexer": "ipython3",
   "version": "3.9.1"
  },
  "orig_nbformat": 4
 },
 "nbformat": 4,
 "nbformat_minor": 2
}
